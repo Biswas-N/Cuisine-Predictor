{
 "cells": [
  {
   "cell_type": "code",
   "execution_count": 1,
   "metadata": {},
   "outputs": [],
   "source": [
    "import pandas as pd\n",
    "import re\n",
    "\n",
    "from nltk.stem import WordNetLemmatizer\n",
    "\n",
    "from sklearn.feature_extraction.text import TfidfVectorizer\n",
    "from sklearn.preprocessing import LabelEncoder\n",
    "from sklearn.svm import LinearSVC\n",
    "from sklearn.model_selection import GridSearchCV\n",
    "from sklearn.neighbors import KNeighborsClassifier\n",
    "from sklearn.compose import ColumnTransformer\n",
    "from sklearn.pipeline import Pipeline\n",
    "\n",
    "import warnings\n",
    "warnings.filterwarnings('once')"
   ]
  },
  {
   "cell_type": "code",
   "execution_count": 2,
   "metadata": {},
   "outputs": [],
   "source": [
    "def normalize_ingreds(x: list[str]) -> str:\n",
    "    skip_verbs = [\n",
    "        \"crushed\",\"crumbles\",\"ground\",\"minced\",\"powder\",\"chopped\",\n",
    "        \"sliced\",\"grilled\",\"boneless\",\"skinless\",\"steamed\"]\n",
    "    remove_verbs = lambda x: re.sub(r\"|\".join(skip_verbs),'', x)\n",
    "    lemmatizer = WordNetLemmatizer()\n",
    "    \n",
    "    ingreds = list(map(remove_verbs, x))\n",
    "    ingreds = [\" \".join([lemmatizer.lemmatize(j) \n",
    "                    for j in i.lower().split(\" \")]) \n",
    "                for i in ingreds]\n",
    "    ingreds = [re.sub(\"[^A-Za-z ]\", \"\", i) for i in ingreds]\n",
    "    ingreds = [re.sub(\" +\", \" \", i) for i in ingreds]\n",
    "    ingreds = [i.strip().replace(\" \", \"_\" ) for i in ingreds]\n",
    "\n",
    "    return \",\".join(ingreds)"
   ]
  },
  {
   "cell_type": "code",
   "execution_count": 3,
   "metadata": {},
   "outputs": [],
   "source": [
    "yummly_df = pd.read_json(\"../assets/yummly.json\")\n",
    "\n",
    "yummly_df[\"ingredients\"] = yummly_df[\"ingredients\"].map(normalize_ingreds)\n",
    "yummly_df = yummly_df[~yummly_df.duplicated([\"cuisine\", \"ingredients\"], keep=\"first\")]"
   ]
  },
  {
   "cell_type": "code",
   "execution_count": 4,
   "metadata": {},
   "outputs": [],
   "source": [
    "y = yummly_df[\"cuisine\"]\n",
    "X = yummly_df.drop(['id', 'cuisine'], axis=1)\n",
    "\n",
    "le = LabelEncoder()\n",
    "y_transformed = le.fit_transform(yummly_df[\"cuisine\"])"
   ]
  },
  {
   "cell_type": "markdown",
   "metadata": {},
   "source": [
    "### Hypertuning LinearSVC using GridSerachCV"
   ]
  },
  {
   "cell_type": "code",
   "execution_count": 5,
   "metadata": {},
   "outputs": [
    {
     "name": "stderr",
     "output_type": "stream",
     "text": [
      "/home/biswas/.local/share/virtualenvs/cs5293sp22-project2-arg9LSuG/lib/python3.10/site-packages/sklearn/svm/_base.py:1206: ConvergenceWarning: Liblinear failed to converge, increase the number of iterations.\n",
      "  warnings.warn(\n",
      "/home/biswas/.local/share/virtualenvs/cs5293sp22-project2-arg9LSuG/lib/python3.10/site-packages/sklearn/svm/_base.py:1206: ConvergenceWarning: Liblinear failed to converge, increase the number of iterations.\n",
      "  warnings.warn(\n",
      "/home/biswas/.local/share/virtualenvs/cs5293sp22-project2-arg9LSuG/lib/python3.10/site-packages/sklearn/svm/_base.py:1206: ConvergenceWarning: Liblinear failed to converge, increase the number of iterations.\n",
      "  warnings.warn(\n",
      "/home/biswas/.local/share/virtualenvs/cs5293sp22-project2-arg9LSuG/lib/python3.10/site-packages/sklearn/svm/_base.py:1206: ConvergenceWarning: Liblinear failed to converge, increase the number of iterations.\n",
      "  warnings.warn(\n",
      "/home/biswas/.local/share/virtualenvs/cs5293sp22-project2-arg9LSuG/lib/python3.10/site-packages/sklearn/svm/_base.py:1206: ConvergenceWarning: Liblinear failed to converge, increase the number of iterations.\n",
      "  warnings.warn(\n",
      "/home/biswas/.local/share/virtualenvs/cs5293sp22-project2-arg9LSuG/lib/python3.10/site-packages/sklearn/svm/_base.py:1206: ConvergenceWarning: Liblinear failed to converge, increase the number of iterations.\n",
      "  warnings.warn(\n",
      "/home/biswas/.local/share/virtualenvs/cs5293sp22-project2-arg9LSuG/lib/python3.10/site-packages/sklearn/svm/_base.py:1206: ConvergenceWarning: Liblinear failed to converge, increase the number of iterations.\n",
      "  warnings.warn(\n",
      "/home/biswas/.local/share/virtualenvs/cs5293sp22-project2-arg9LSuG/lib/python3.10/site-packages/sklearn/svm/_base.py:1206: ConvergenceWarning: Liblinear failed to converge, increase the number of iterations.\n",
      "  warnings.warn(\n",
      "/home/biswas/.local/share/virtualenvs/cs5293sp22-project2-arg9LSuG/lib/python3.10/site-packages/sklearn/svm/_base.py:1206: ConvergenceWarning: Liblinear failed to converge, increase the number of iterations.\n",
      "  warnings.warn(\n",
      "/home/biswas/.local/share/virtualenvs/cs5293sp22-project2-arg9LSuG/lib/python3.10/site-packages/sklearn/svm/_base.py:1206: ConvergenceWarning: Liblinear failed to converge, increase the number of iterations.\n",
      "  warnings.warn(\n",
      "/home/biswas/.local/share/virtualenvs/cs5293sp22-project2-arg9LSuG/lib/python3.10/site-packages/sklearn/model_selection/_validation.py:372: FitFailedWarning: \n",
      "42 fits failed out of a total of 84.\n",
      "The score on these train-test partitions for these parameters will be set to nan.\n",
      "If these failures are not expected, you can try to debug them by setting error_score='raise'.\n",
      "\n",
      "Below are more details about the failures:\n",
      "--------------------------------------------------------------------------------\n",
      "42 fits failed with the following error:\n",
      "Traceback (most recent call last):\n",
      "  File \"/home/biswas/.local/share/virtualenvs/cs5293sp22-project2-arg9LSuG/lib/python3.10/site-packages/sklearn/model_selection/_validation.py\", line 680, in _fit_and_score\n",
      "    estimator.fit(X_train, y_train, **fit_params)\n",
      "  File \"/home/biswas/.local/share/virtualenvs/cs5293sp22-project2-arg9LSuG/lib/python3.10/site-packages/sklearn/pipeline.py\", line 394, in fit\n",
      "    self._final_estimator.fit(Xt, y, **fit_params_last_step)\n",
      "  File \"/home/biswas/.local/share/virtualenvs/cs5293sp22-project2-arg9LSuG/lib/python3.10/site-packages/sklearn/svm/_classes.py\", line 257, in fit\n",
      "    self.coef_, self.intercept_, self.n_iter_ = _fit_liblinear(\n",
      "  File \"/home/biswas/.local/share/virtualenvs/cs5293sp22-project2-arg9LSuG/lib/python3.10/site-packages/sklearn/svm/_base.py\", line 1185, in _fit_liblinear\n",
      "    solver_type = _get_liblinear_solver_type(multi_class, penalty, loss, dual)\n",
      "  File \"/home/biswas/.local/share/virtualenvs/cs5293sp22-project2-arg9LSuG/lib/python3.10/site-packages/sklearn/svm/_base.py\", line 1024, in _get_liblinear_solver_type\n",
      "    raise ValueError(\n",
      "ValueError: Unsupported set of arguments: The combination of penalty='l1' and loss='squared_hinge' are not supported when dual=True, Parameters: penalty='l1', loss='squared_hinge', dual=True\n",
      "\n",
      "  warnings.warn(some_fits_failed_message, FitFailedWarning)\n",
      "/home/biswas/.local/share/virtualenvs/cs5293sp22-project2-arg9LSuG/lib/python3.10/site-packages/sklearn/model_selection/_search.py:969: UserWarning: One or more of the test scores are non-finite: [       nan        nan        nan 0.6553584  0.57528481 0.31996673\n",
      "        nan        nan        nan 0.76436637 0.72746749 0.53558826\n",
      "        nan        nan        nan 0.77535538 0.76562658 0.6031354\n",
      "        nan        nan        nan 0.77457405 0.76597943 0.6031354\n",
      "        nan        nan        nan 0.7354572  0.75864502 0.59519609\n",
      "        nan        nan        nan 0.7020617  0.7554693  0.59267567\n",
      "        nan        nan        nan 0.68774574 0.75516685 0.59257486]\n",
      "  warnings.warn(\n"
     ]
    },
    {
     "data": {
      "text/plain": [
       "GridSearchCV(cv=2,\n",
       "             estimator=Pipeline(steps=[('preprocessor',\n",
       "                                        ColumnTransformer(transformers=[('vectorizer',\n",
       "                                                                         TfidfVectorizer(stop_words='english'),\n",
       "                                                                         'ingredients')])),\n",
       "                                       ('estimator', LinearSVC())]),\n",
       "             param_grid={'estimator__C': [0.01, 0.1, 0.9, 1, 10, 50, 100],\n",
       "                         'estimator__penalty': ['l1', 'l2'],\n",
       "                         'preprocessor__vectorizer__ngram_range': [(1, 1),\n",
       "                                                                   (1, 2),\n",
       "                                                                   (2, 2)]},\n",
       "             scoring='accuracy')"
      ]
     },
     "execution_count": 5,
     "metadata": {},
     "output_type": "execute_result"
    }
   ],
   "source": [
    "param_grid = {\n",
    "    'preprocessor__vectorizer__ngram_range': [(1,1), (1, 2), (2,2)],\n",
    "    'estimator__C': [0.01, 0.1, 0.9, 1, 10, 50, 100], \n",
    "    'estimator__penalty': ['l1', 'l2']\n",
    "}\n",
    "\n",
    "preprocessor = ColumnTransformer(\n",
    "    transformers=[\n",
    "        ('vectorizer', TfidfVectorizer(stop_words=\"english\"), \"ingredients\")\n",
    "    ])\n",
    "\n",
    "clf_pipe = Pipeline(steps=[\n",
    "    ('preprocessor', preprocessor),\n",
    "    ('estimator', LinearSVC())\n",
    "])\n",
    "\n",
    "grid = GridSearchCV(\n",
    "    clf_pipe, param_grid, cv=2, refit=True, scoring='accuracy')\n",
    "\n",
    "grid.fit(X, y_transformed)       "
   ]
  },
  {
   "cell_type": "code",
   "execution_count": 6,
   "metadata": {},
   "outputs": [
    {
     "name": "stdout",
     "output_type": "stream",
     "text": [
      "Best hyper parameters:  {'estimator__C': 0.9, 'estimator__penalty': 'l2', 'preprocessor__vectorizer__ngram_range': (1, 1)}\n",
      "Best Accuracy score:  0.7753553785663878\n"
     ]
    }
   ],
   "source": [
    "\n",
    "print(\"Best hyper parameters: \", grid.best_params_)\n",
    "print(\"Best Accuracy score: \", grid.best_score_) "
   ]
  },
  {
   "cell_type": "markdown",
   "metadata": {},
   "source": [
    "### Hypertuning kNN using GridSearchCV"
   ]
  },
  {
   "cell_type": "code",
   "execution_count": 7,
   "metadata": {},
   "outputs": [
    {
     "data": {
      "text/plain": [
       "GridSearchCV(cv=2,\n",
       "             estimator=Pipeline(steps=[('preprocessor',\n",
       "                                        ColumnTransformer(transformers=[('vectorizer',\n",
       "                                                                         TfidfVectorizer(stop_words='english'),\n",
       "                                                                         'ingredients')])),\n",
       "                                       ('estimator', KNeighborsClassifier())]),\n",
       "             param_grid={'estimator__n_neighbors': [2, 3, 4, 5, 6, 7, 8, 9, 10,\n",
       "                                                    11, 12, 13, 14, 15, 16, 17,\n",
       "                                                    18, 19],\n",
       "                         'preprocessor__vectorizer__ngram_range': [(1, 1),\n",
       "                                                                   (1, 2),\n",
       "                                                                   (2, 2)]},\n",
       "             scoring='accuracy')"
      ]
     },
     "execution_count": 7,
     "metadata": {},
     "output_type": "execute_result"
    }
   ],
   "source": [
    "param_grid = {\n",
    "    'preprocessor__vectorizer__ngram_range': [(1,1), (1,2), (2,2)],\n",
    "    'estimator__n_neighbors': list(range(2, 20))\n",
    "}\n",
    "\n",
    "preprocessor = ColumnTransformer(\n",
    "    transformers=[\n",
    "        ('vectorizer', TfidfVectorizer(stop_words=\"english\"), \"ingredients\")\n",
    "    ])\n",
    "\n",
    "knn_pipe = Pipeline(steps=[\n",
    "    ('preprocessor', preprocessor),\n",
    "    ('estimator', KNeighborsClassifier())\n",
    "])\n",
    "\n",
    "grid = GridSearchCV(\n",
    "    knn_pipe,\n",
    "    param_grid,\n",
    "    cv=2,\n",
    "    refit=True,\n",
    "    scoring='accuracy')\n",
    "\n",
    "grid.fit(X, y_transformed)   "
   ]
  },
  {
   "cell_type": "code",
   "execution_count": 8,
   "metadata": {},
   "outputs": [
    {
     "name": "stdout",
     "output_type": "stream",
     "text": [
      "Best hyper parameters:  {'estimator__n_neighbors': 14, 'preprocessor__vectorizer__ngram_range': (1, 1)}\n",
      "Best Accuracy score:  0.732281479987902\n"
     ]
    }
   ],
   "source": [
    "print(\"Best hyper parameters: \", grid.best_params_)\n",
    "print(\"Best Accuracy score: \", grid.best_score_) "
   ]
  }
 ],
 "metadata": {
  "interpreter": {
   "hash": "7e49d9d6de3b9c15f3b423f673f7b23edc85e57f96def83ee5d8163a26c7054b"
  },
  "kernelspec": {
   "display_name": "Python 3.10.2 ('cs5293sp22-project2-arg9LSuG')",
   "language": "python",
   "name": "python3"
  },
  "language_info": {
   "codemirror_mode": {
    "name": "ipython",
    "version": 3
   },
   "file_extension": ".py",
   "mimetype": "text/x-python",
   "name": "python",
   "nbconvert_exporter": "python",
   "pygments_lexer": "ipython3",
   "version": "3.10.2"
  },
  "orig_nbformat": 4
 },
 "nbformat": 4,
 "nbformat_minor": 2
}
